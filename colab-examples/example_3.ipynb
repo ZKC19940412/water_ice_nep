{
  "nbformat": 4,
  "nbformat_minor": 0,
  "metadata": {
    "colab": {
      "provenance": [],
      "collapsed_sections": []
    },
    "kernelspec": {
      "name": "python3",
      "display_name": "Python 3"
    },
    "language_info": {
      "name": "python"
    },
    "accelerator": "GPU",
    "gpuClass": "premium"
  },
  "cells": [
    {
      "cell_type": "markdown",
      "source": [
        "This notebook can be run on Google Colab.\n",
        "\n",
        "[![Open in Colab](https://colab.research.google.com/assets/colab-badge.svg)](https://github.com/ZKC19940412/water_ice_nep/colab-examples/example-3.ipynb)\n",
        "\n",
        "In Colab, you can enable the GPU acceleration from `Edit` > `Notebook Settings` > `Hardware accelerator` > `GPU`."
      ],
      "metadata": {
        "id": "-O7IZv4yby80"
      }
    },
    {
      "cell_type": "markdown",
      "source": [
        "# Install TDMDpy from Source ($\\sim$ 2 min)"
      ],
      "metadata": {
        "id": "NmXS6U-3b31V"
      }
    },
    {
      "cell_type": "code",
      "execution_count": null,
      "metadata": {
        "id": "mMS_PkUSbqCB"
      },
      "outputs": [],
      "source": [
        "%cd /content/\n",
        "## TODO: Will need to make this \"git clone\"-able\n",
        "! unzip tdmdpy-main.zip\n",
        "! mv tdmdpy-main tdmdpy\n",
        "\n",
        "# Install tdmdpy from source\n",
        "%cd tdmdpy\n",
        "! pip install ."
      ]
    },
    {
      "cell_type": "markdown",
      "source": [
        "# Install [GPUMD](https://github.com/brucefan1983/GPUMD) from Source ($\\sim$ 2 min)\n",
        "- More instructions can be found : https://gpumd.org/installation.html"
      ],
      "metadata": {
        "id": "Qyr9f38Qb6pK"
      }
    },
    {
      "cell_type": "code",
      "source": [
        "%cd /content/\n",
        "! git clone https://github.com/brucefan1983/GPUMD.git\n",
        "%cd /content/GPUMD/src/\n",
        "! make -j 8\n",
        "! echo \"GPUMD installation finishes!\"\n",
        "%cd /content/"
      ],
      "metadata": {
        "id": "wOK8gq4Ob7CL"
      },
      "execution_count": null,
      "outputs": []
    },
    {
      "cell_type": "markdown",
      "source": [
        "# Clean up Workspace and Fetch Nessary Files"
      ],
      "metadata": {
        "id": "DBlUjKyVb8hr"
      }
    },
    {
      "cell_type": "code",
      "source": [
        "%cd /content/\n",
        "## TODO: Will need to make this \"git clone\"-able\n",
        "! unzip water_ice_nep-main.zip\n",
        "! mv water_ice_nep-main water_ice_nep\n",
        "! rm -r *.zip\n",
        "! rm -r sample_data/"
      ],
      "metadata": {
        "id": "1qinyiQNb95V"
      },
      "execution_count": null,
      "outputs": []
    },
    {
      "cell_type": "markdown",
      "source": [
        "# Import Necessary Packages"
      ],
      "metadata": {
        "id": "hQZzuZQQcDrM"
      }
    },
    {
      "cell_type": "code",
      "source": [
        "import mdtraj as mdt\n",
        "import numpy as np\n",
        "from pynvml import *\n",
        "from pylab import *   \n",
        "from tdmdpy.atom_manipulate import decompose_dump_xyz\n",
        "from tdmdpy.atom_manipulate import load_with_cell\n",
        "from tdmdpy.create_systems import generate_ice_structures\n",
        "from tdmdpy.scorer import score_property\n",
        "from tdmdpy.thermodynamic_properties import get_block_average_quantities"
      ],
      "metadata": {
        "id": "0i4mVdK_cD4V"
      },
      "execution_count": 4,
      "outputs": []
    },
    {
      "cell_type": "markdown",
      "source": [
        "# Custom Function Define"
      ],
      "metadata": {
        "id": "a4-iMDyccE99"
      }
    },
    {
      "cell_type": "code",
      "source": [
        "def set_fig_properties(ax_list):\n",
        "    tl = 6\n",
        "    tw = 2\n",
        "    tlm = 4\n",
        "\n",
        "    for ax in ax_list:\n",
        "        ax.tick_params(which='major', length=tl, width=tw)\n",
        "        ax.tick_params(which='minor', length=tlm, width=tw)\n",
        "        ax.tick_params(which='both', axis='both', \n",
        "                       direction='in', right=True, top=True,\n",
        "                       left=True)"
      ],
      "metadata": {
        "id": "1HXHNSx7cGRc"
      },
      "execution_count": 5,
      "outputs": []
    },
    {
      "cell_type": "markdown",
      "source": [
        "# Obtain Information about GPU Architecture for Particular colab Instance"
      ],
      "metadata": {
        "id": "GOMH8asJcIx1"
      }
    },
    {
      "cell_type": "code",
      "source": [
        "if __name__ == \"__main__\":\n",
        "\n",
        "    # Initialize nvml object\n",
        "    nvmlInit()\n",
        "    print(\"Driver Version:\", nvmlSystemGetDriverVersion())\n",
        "    deviceCount = nvmlDeviceGetCount()\n",
        "\n",
        "    # Loop through all avaliable devices\n",
        "    for i in range(deviceCount):\n",
        "        handle = nvmlDeviceGetHandleByIndex(i)\n",
        "        print(\"Device\", i, \":\", nvmlDeviceGetName(handle))"
      ],
      "metadata": {
        "id": "yhC_HL-0cJst"
      },
      "execution_count": null,
      "outputs": []
    },
    {
      "cell_type": "markdown",
      "source": [
        "# Perform Simulations to Compute  Orthobaric Densities"
      ],
      "metadata": {
        "id": "HAAH3Zo7rYjP"
      }
    },
    {
      "cell_type": "markdown",
      "source": [
        "## Create Hexagonal Ice (ih) System"
      ],
      "metadata": {
        "id": "5YCq3nXcd-Ts"
      }
    },
    {
      "cell_type": "code",
      "source": [
        "if __name__ == \"__main__\":\n",
        "    systems = generate_ice_structures(target_densities=0.92, \n",
        "                                      type_str='Ih',\n",
        "                                      number_of_total_replica=27)"
      ],
      "metadata": {
        "id": "uLoJW8wMeCYL"
      },
      "execution_count": 7,
      "outputs": []
    },
    {
      "cell_type": "markdown",
      "source": [
        "## Compose run.in"
      ],
      "metadata": {
        "id": "2F34oiFbrham"
      }
    },
    {
      "cell_type": "code",
      "source": [
        "%%writefile run.in\n",
        "# NEP potential\n",
        "potential /content/water_ice_nep/nep-pre-train-model/nep.txt\n",
        "\n",
        "# time step for 0.5 fs\n",
        "time_step 0.5\n",
        "\n",
        "# Initialize velocity at 250K\n",
        "velocity 250\n",
        "\n",
        "# Run NPT production with SCR method for 250K Tini and Tend, \n",
        "# and 100 for Tcoupling,  1 bar for pressures, and \n",
        "# 2 Gpa for pressure coupling and 1000 steps\n",
        "ensemble npt_scr 250 250 100 0.0001 0.0001 0.0001 2 2 2 1000\n",
        "\n",
        "# run 8000 steps, equal to 4 ps simulation\n",
        "run 8000\n",
        "\n",
        "# Run NPT production with SCR method for 250K Tini and Tend, \n",
        "# and 100 for Tcoupling,  1.01325 bar for pressures, and \n",
        "# 2 Gpa for pressure coupling and 1000 steps\n",
        "ensemble npt_scr 250 250 100 0.0001 0.0001 0.0001 2 2 2 1000\n",
        "\n",
        "# dump extended xyz with every 100 steps, dump force and velocity too\n",
        "dump_exyz 100 1 1\n",
        "\n",
        "# dump themodynamic quantities every 100 steps\n",
        "dump_thermo 100\n",
        "\n",
        "# Run 100000 steps, equal to 50 ps simulation\n",
        "run 100000"
      ],
      "metadata": {
        "id": "FGvUgTwtrivk"
      },
      "execution_count": null,
      "outputs": []
    },
    {
      "cell_type": "markdown",
      "source": [
        "## Peform Simualtions ($\\sim$ 12 min)\n",
        "- 8000 and 100000 steps used here only serve as illustration purpose."
      ],
      "metadata": {
        "id": "W29nYcafsF0G"
      }
    },
    {
      "cell_type": "code",
      "source": [
        "! /content/GPUMD/src/gpumd < run.in"
      ],
      "metadata": {
        "id": "StmSj1iSsHHV"
      },
      "execution_count": null,
      "outputs": []
    },
    {
      "cell_type": "markdown",
      "source": [
        "## Compute Mass Density ($\\rho$) and Visualize $\\rho$ vs Time from Production Run"
      ],
      "metadata": {
        "id": "LJv-9pw00Gr_"
      }
    },
    {
      "cell_type": "code",
      "source": [
        "if __name__ == \"__main__\":\n",
        "\n",
        "    #  Set up Figure Styles\n",
        "    aw = 2\n",
        "    fs = 22\n",
        "    font = {'size': fs}\n",
        "    matplotlib.rc('font', **font)\n",
        "    matplotlib.rc('axes', linewidth=aw)\n",
        "\n",
        "    # Load in temperature data from thermo.out\n",
        "    data = np.loadtxt('thermo.out')\n",
        "\n",
        "    # Extract box dimension from thermo.out\n",
        "    # length scale goes from angstrom to nm\n",
        "    cell_length_matrix = data[:, -3:] / 10.0\n",
        "    cell_angle_matrix = 90 * np.ones_like(cell_length_matrix)\n",
        "\n",
        "    # Decompose dump.xyz\n",
        "    decompose_dump_xyz('dump.xyz')\n",
        "\n",
        "    # Inject Reference PDB file into the trajectory'\n",
        "    pos_trajectory = load_with_cell('pos.xyz', cell_length_matrix, \n",
        "                                    cell_angle_matrix,\n",
        "                                    top='ini_pos.pdb')\n",
        "\n",
        "    # Compute mass density\n",
        "    mass_density = mdt.density(pos_trajectory)\n",
        "    mass_density_in_block = get_block_average_quantities(mass_density,n_block=5)\n",
        "    block_average_mass_density =  mass_density_in_block.mean()/1000.0\n",
        "    std_block_average_mass_density = np.std(mass_density_in_block)/1000.0\n",
        "    score_property(np.round(block_average_mass_density,3),  \n",
        "                   property_str = 'rho_Ih_250K_1bar')\n",
        "    print('STD rho (g/cm^3): %.3f' %std_block_average_mass_density)\n",
        "    print('\\n')\n",
        "\n",
        "    # Denote time step and sample rate\n",
        "    time_step = 5e-4\n",
        "    sample_rate = 100\n",
        "\n",
        "    # Derive time span\n",
        "    time_span = time_step * sample_rate * np.arange(0, len(data), 1)\n",
        "\n",
        "    figure(figsize=(8, 6))\n",
        "    set_fig_properties([gca()])\n",
        "    plot(time_span, mass_density/1000.0, label=r'$\\rho$')\n",
        "    plot(time_span, \n",
        "         np.round(block_average_mass_density,3) * \n",
        "         np.ones_like(time_span), 'r--',\n",
        "         label=r'$\\rho_{block \\ avg}$')\n",
        "    xlabel('Time (ps)')\n",
        "    ylabel(r'$\\rho (g/cm^{3})$')\n",
        "    ylim([0.89, 0.94])\n",
        "    legend(loc=4, fontsize=16)\n",
        "    show()"
      ],
      "metadata": {
        "id": "EZWDF2X5tiZJ"
      },
      "execution_count": null,
      "outputs": []
    }
  ]
}