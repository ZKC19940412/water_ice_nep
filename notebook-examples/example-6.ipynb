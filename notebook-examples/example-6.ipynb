{
  "nbformat": 4,
  "nbformat_minor": 0,
  "metadata": {
    "colab": {
      "provenance": [],
      "collapsed_sections": []
    },
    "kernelspec": {
      "name": "python3",
      "display_name": "Python 3"
    },
    "language_info": {
      "name": "python"
    },
    "accelerator": "GPU",
    "gpuClass": "premium"
  },
  "cells": [
    {
      "cell_type": "markdown",
      "source": [
        "This notebook can be run on Google Colab.\n",
        "\n",
        "[![Open in Colab](https://colab.research.google.com/assets/colab-badge.svg)](https://github.com/ZKC19940412/water_ice_nep/colab-examples/example-6.ipynb)\n",
        "\n",
        "In Colab, you can enable the GPU acceleration from `Edit` > `Notebook Settings` > `Hardware accelerator` > `GPU`."
      ],
      "metadata": {
        "id": "57wTTHhmzfbL"
      }
    },
    {
      "cell_type": "markdown",
      "source": [
        "# Install TDMDpy from Source ($\\sim$ 2 min)"
      ],
      "metadata": {
        "id": "lNKjQwcezjQL"
      }
    },
    {
      "cell_type": "code",
      "execution_count": null,
      "metadata": {
        "id": "jrZWmDMxzcGy"
      },
      "outputs": [],
      "source": [
        "%cd /content/\n",
        "## TODO: Will need to make this \"git clone\"-able\n",
        "! unzip tdmdpy-main.zip\n",
        "! mv tdmdpy-main tdmdpy\n",
        "\n",
        "# Install tdmdpy from source\n",
        "%cd tdmdpy\n",
        "! pip install ."
      ]
    },
    {
      "cell_type": "markdown",
      "source": [
        "# Install [GPUMD](https://github.com/brucefan1983/GPUMD) from Source ($\\sim$ 2 min)\n",
        "- More instructions can be found : https://gpumd.org/installation.html"
      ],
      "metadata": {
        "id": "GNr54LMgzlCL"
      }
    },
    {
      "cell_type": "code",
      "source": [
        "%cd /content/\n",
        "! git clone https://github.com/brucefan1983/GPUMD.git\n",
        "%cd /content/GPUMD/src/\n",
        "! make -j 8\n",
        "! echo \"GPUMD installation finishes!\"\n",
        "%cd /content/"
      ],
      "metadata": {
        "id": "106vj1MrzmtS"
      },
      "execution_count": null,
      "outputs": []
    },
    {
      "cell_type": "markdown",
      "source": [
        "# Clean up Workspace and Fetch Nessary Files"
      ],
      "metadata": {
        "id": "UP2zDRt4zoM7"
      }
    },
    {
      "cell_type": "code",
      "source": [
        "%cd /content/\n",
        "## TODO: Will need to make this \"git clone\"-able\n",
        "! unzip water_ice_nep-main.zip\n",
        "! mv water_ice_nep-main water_ice_nep\n",
        "! rm -r *.zip\n",
        "! rm -r sample_data/"
      ],
      "metadata": {
        "id": "pNYOI9DqzpXS"
      },
      "execution_count": null,
      "outputs": []
    },
    {
      "cell_type": "markdown",
      "source": [
        "# Custom Function Define"
      ],
      "metadata": {
        "id": "9rbypKS9z5MC"
      }
    },
    {
      "cell_type": "code",
      "source": [
        "def set_fig_properties(ax_list):\n",
        "    tl = 6\n",
        "    tw = 2\n",
        "    tlm = 4\n",
        "\n",
        "    for ax in ax_list:\n",
        "        ax.tick_params(which='major', length=tl, width=tw)\n",
        "        ax.tick_params(which='minor', length=tlm, width=tw)\n",
        "        ax.tick_params(which='both', axis='both', \n",
        "                       direction='in', right=True, top=True,\n",
        "                       left=True)"
      ],
      "metadata": {
        "id": "FElWvMVfz6m7"
      },
      "execution_count": 1,
      "outputs": []
    },
    {
      "cell_type": "markdown",
      "source": [
        "# Import Necessary Packages"
      ],
      "metadata": {
        "id": "nJgU0Ms8zqiV"
      }
    },
    {
      "cell_type": "code",
      "source": [
        "import mdtraj as mdt\n",
        "import numpy as np\n",
        "from pynvml import *\n",
        "from pylab import *  \n",
        "import scipy.constants as spc \n",
        "from tdmdpy.atom_manipulate import decompose_dump_xyz\n",
        "from tdmdpy.atom_manipulate import load_with_cell\n",
        "from tdmdpy.create_systems import generate_water_box\n",
        "from tdmdpy.scorer import score_property\n",
        "from tdmdpy.thermodynamic_properties import get_block_average_quantities\n",
        "from tdmdpy.thermodynamic_properties import process_diffusion_coefficients"
      ],
      "metadata": {
        "id": "HDeIxqFDzrnN"
      },
      "execution_count": 2,
      "outputs": []
    },
    {
      "cell_type": "markdown",
      "source": [
        "# Obtain Information about GPU Architecture for Particular colab Instance"
      ],
      "metadata": {
        "id": "BC241j_Szwkj"
      }
    },
    {
      "cell_type": "code",
      "source": [
        "if __name__ == \"__main__\":\n",
        "\n",
        "    # Initialize nvml object\n",
        "    nvmlInit()\n",
        "    print(\"Driver Version:\", nvmlSystemGetDriverVersion())\n",
        "    deviceCount = nvmlDeviceGetCount()\n",
        "\n",
        "    # Loop through all avaliable devices\n",
        "    for i in range(deviceCount):\n",
        "        handle = nvmlDeviceGetHandleByIndex(i)\n",
        "        print(\"Device\", i, \":\", nvmlDeviceGetName(handle))"
      ],
      "metadata": {
        "id": "bBKJiqS6zzIL"
      },
      "execution_count": null,
      "outputs": []
    },
    {
      "cell_type": "markdown",
      "source": [
        "# Perform Simulations to Compute  Self Diffusion Coefficients ($ln\\mathscr{D}$)"
      ],
      "metadata": {
        "id": "tayb01t30AKi"
      }
    },
    {
      "cell_type": "markdown",
      "source": [
        "## Create Liquid Water in Cubic Box"
      ],
      "metadata": {
        "id": "k7sSFuhD0Moy"
      }
    },
    {
      "cell_type": "code",
      "source": [
        "if __name__ == \"__main__\":\n",
        "    generate_water_box(target_density = 0.994,\n",
        "                       number_of_molecules=512,\n",
        "                       is_pre_equilibrate=False)"
      ],
      "metadata": {
        "id": "0tNFcMit0PoY"
      },
      "execution_count": 4,
      "outputs": []
    },
    {
      "cell_type": "markdown",
      "source": [
        "## Compose run.in"
      ],
      "metadata": {
        "id": "Asw9HS1g0Rt7"
      }
    },
    {
      "cell_type": "code",
      "source": [
        "%%writefile run.in\n",
        "# Set up NEP potential\n",
        "potential /content/water_ice_nep/nep-pre-train-model/nep.txt\n",
        "\n",
        "# time step for 0.5 fs\n",
        "time_step 0.5\n",
        "\n",
        "\n",
        "# Initialize velocity at 298K\n",
        "velocity 298\n",
        "\n",
        "# Run NPT equalibration with SCR method for 298K Tini and Tend, \n",
        "# and 100 for Tcoupling, 0 bar for pressures, \n",
        "# and 2 Gpa for pressure coupling and 1000 steps\n",
        "\n",
        "ensemble npt_scr 298 298 100 0 0 0 2 2 2 1000\n",
        "\n",
        "# dump extended xyz with every 1000 steps, dump force and velocity too\n",
        "dump_exyz 1000 1 1\n",
        "\n",
        "# dump themodynamic quantities every 1000 steps\n",
        "dump_thermo 1000\n",
        "\n",
        "# run 20000 steps, equal to 10 ps simulation\n",
        "run 20000\n",
        "\n",
        "# Run NVE production run\n",
        "ensemble nve\n",
        "\n",
        "# Compute self diffusion coefficnets \n",
        "compute_sdc 2 2000\n",
        "\n",
        "# Run 100000 steps, equal to 50 ps simulation\n",
        "run 100000"
      ],
      "metadata": {
        "id": "WsyJSxMQ0R-b"
      },
      "execution_count": null,
      "outputs": []
    },
    {
      "cell_type": "markdown",
      "source": [
        "## Peform Simualtions ($\\sim$ 15 min)\n",
        "- 20000 and 100000 steps used here only serve as illustration purpose."
      ],
      "metadata": {
        "id": "qx6juIW80yVT"
      }
    },
    {
      "cell_type": "code",
      "source": [
        "! /content/GPUMD/src/gpumd < run.in"
      ],
      "metadata": {
        "id": "HjiMHc1f004E"
      },
      "execution_count": null,
      "outputs": []
    },
    {
      "cell_type": "markdown",
      "source": [
        "# Compute Self Diffusion Coefficients ($ln\\mathscr{D}$)"
      ],
      "metadata": {
        "id": "CqrrDOBM2QKt"
      }
    },
    {
      "cell_type": "code",
      "source": [
        "if __name__ == \"__main__\":\n",
        "    \n",
        "    # Process diffusion coefficients from sdc.out\n",
        "    D, _, _, _, _, _= process_diffusion_coefficients('sdc.out', \n",
        "                                                     dimension_factor=3, \n",
        "                                                     is_verbose=False)\n",
        "\n",
        "    # Score property accordingly\n",
        "    score_property(np.round(np.log(D.mean() * 1e-5),2),  \n",
        "                   property_str ='lnD_298K')\n",
        "    print('Stand deviation: %.2f' % np.std(np.log(D* 1e-5)))"
      ],
      "metadata": {
        "id": "xZvaFwy12YzZ"
      },
      "execution_count": null,
      "outputs": []
    }
  ]
}